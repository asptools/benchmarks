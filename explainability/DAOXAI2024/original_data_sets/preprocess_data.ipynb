{
 "cells": [
  {
   "cell_type": "code",
   "execution_count": 1,
   "metadata": {},
   "outputs": [],
   "source": [
    "%load_ext autoreload\n",
    "%autoreload 2"
   ]
  },
  {
   "cell_type": "code",
   "execution_count": 2,
   "metadata": {},
   "outputs": [],
   "source": [
    "import pandas as pd\n",
    "from booleanize import booleanize_categorical_attributes\n",
    "from save_cv_10_splits import save_cv_10_splits"
   ]
  },
  {
   "cell_type": "code",
   "execution_count": 16,
   "metadata": {},
   "outputs": [],
   "source": [
    "df = pd.read_csv('bank_marketing/bank.csv')\n",
    "df['job'] = df['job'].str.replace('-', '_')\n",
    "df['target'] = df['y'].replace({'yes' : 1, 'no' : 0})\n",
    "df.drop('y', axis = 1, inplace = True)\n",
    "\n",
    "#categorical_features = ['job','marital','education','default','housing','loan','contact','month','poutcome']\n",
    "df = pd.get_dummies(df, columns=['job','marital','education','default','housing','loan','contact','month','poutcome'])\n",
    "continous_features = ['age','balance','day','duration','campaign','pdays','previous']\n",
    "\n",
    "save_cv_10_splits(df, 'bank_marketing', None, continous_features)"
   ]
  },
  {
   "cell_type": "code",
   "execution_count": 17,
   "metadata": {},
   "outputs": [],
   "source": [
    "df = pd.read_csv('cancer_data/breast_cancer_wisconsin.csv')\n",
    "df.drop('sample_code_number', axis = 1, inplace = True)\n",
    "df.replace('?', pd.NA, inplace=True)\n",
    "df = df.dropna().copy()\n",
    "for column in df.columns:\n",
    "    df[column] = df[column].astype(int)\n",
    "continous_features = df.columns.difference(['class'])\n",
    "df['target'] = df['class'].replace({2 : 1, 4 : 0})\n",
    "df.drop('class', axis = 1, inplace = True)\n",
    "\n",
    "save_cv_10_splits(df, 'breast_cancer', None, continous_features)"
   ]
  },
  {
   "cell_type": "code",
   "execution_count": 5,
   "metadata": {},
   "outputs": [],
   "source": [
    "df = pd.read_csv('congressional_voting_records/house-votes-84.csv')\n",
    "df['target'] = df['party'].replace({'republican' : 1, 'democrat' : 0})\n",
    "df.drop('party', axis = 1, inplace = True)\n",
    "categorical_features = df.columns.difference(['target'])\n",
    "df = booleanize_categorical_attributes(df, categorical_features)\n",
    "\n",
    "save_cv_10_splits(df, 'congressional_voting')"
   ]
  },
  {
   "cell_type": "code",
   "execution_count": 18,
   "metadata": {},
   "outputs": [],
   "source": [
    "df = pd.read_csv('statlog_german_credit_data/german.csv')\n",
    "df['target'] = df['target'].replace({1 : 1, 2 : 0})\n",
    "continous_features = ['A2','A5','A8','A11','A13','A16','A18']\n",
    "\n",
    "categorical_features = df.columns.difference(continous_features + ['target'])\n",
    "df = booleanize_categorical_attributes(df, categorical_features)\n",
    "\n",
    "save_cv_10_splits(df, 'german_credit', None, continous_features)"
   ]
  },
  {
   "cell_type": "code",
   "execution_count": 7,
   "metadata": {},
   "outputs": [],
   "source": [
    "df = pd.read_csv('heart_disease/heart_disease.csv')\n",
    "bool_features = ['exng','fbs','sex']\n",
    "categorical_features = ['caa','cp','thall','restecg','slp']\n",
    "continous_features = df.columns.difference(bool_features + categorical_features + ['output'])\n",
    "\n",
    "for column in bool_features:\n",
    "    df[column] = df[column].replace({1 : True, 0 : False})\n",
    "df = booleanize_categorical_attributes(df, categorical_features)\n",
    "df['target'] = df['output']\n",
    "df.drop('output', axis = 1, inplace = True)\n",
    "\n",
    "save_cv_10_splits(df, 'heart_disease', None, continous_features, None)"
   ]
  },
  {
   "cell_type": "code",
   "execution_count": 6,
   "metadata": {},
   "outputs": [
    {
     "name": "stderr",
     "output_type": "stream",
     "text": [
      "C:\\Users\\reijo\\AppData\\Local\\Temp\\ipykernel_9816\\3750030988.py:9: FutureWarning: Downcasting behavior in `replace` is deprecated and will be removed in a future version. To retain the old behavior, explicitly call `result.infer_objects(copy=False)`. To opt-in to the future behavior, set `pd.set_option('future.no_silent_downcasting', True)`\n",
      "  df[column] = df[column].replace({2 : True, 1 : False})\n",
      "C:\\Users\\reijo\\AppData\\Local\\Temp\\ipykernel_9816\\3750030988.py:8: FutureWarning: Downcasting behavior in `replace` is deprecated and will be removed in a future version. To retain the old behavior, explicitly call `result.infer_objects(copy=False)`. To opt-in to the future behavior, set `pd.set_option('future.no_silent_downcasting', True)`\n",
      "  df[column] = df[column].replace({'2' : True, '1' : False})\n",
      "c:\\Users\\reijo\\OneDrive - TUNI.fi\\Työpöytä\\supplementary\\original_data_sets\\save_cv_10_splits.py:6: FutureWarning: Downcasting behavior in `replace` is deprecated and will be removed in a future version. To retain the old behavior, explicitly call `result.infer_objects(copy=False)`. To opt-in to the future behavior, set `pd.set_option('future.no_silent_downcasting', True)`\n",
      "  bool_df['target'] = bool_df['target'].replace({1: True, 0: False})\n"
     ]
    }
   ],
   "source": [
    "df = pd.read_csv('hepatitis/hepatitis.csv')\n",
    "df.drop(columns = ['alk_phosphate','protime'], inplace = True)\n",
    "df.replace('?', pd.NA, inplace=True)\n",
    "df = df.dropna().copy()\n",
    "\n",
    "bool_features = ['sex','steroid','antivirals','fatigue','malaise','anorexia','liver_big','liver_firm','spleen_palpable','spiders','ascites','varices','histology']\n",
    "for column in bool_features:\n",
    "    df[column] = df[column].replace({'2' : True, '1' : False})\n",
    "    df[column] = df[column].replace({2 : True, 1 : False})\n",
    "\n",
    "continous_features = ['bilirubin','sgot','albumin','age']\n",
    "for column in continous_features:\n",
    "    df = df[df[column] != '?']\n",
    "    df[column] = df[column].astype(float)\n",
    "\n",
    "df['target'] = df['lives'].replace({2 : 1, 1 : 0})\n",
    "df.drop('lives', axis = 1, inplace = True)\n",
    "\n",
    "save_cv_10_splits(df, 'hepatitis', None, continous_features, None)"
   ]
  },
  {
   "cell_type": "code",
   "execution_count": 8,
   "metadata": {},
   "outputs": [],
   "source": [
    "df = pd.read_csv('student_drop_out/student_drop_out.csv')\n",
    "bool_features = ['Displaced','Educational_special_needs','Debtor','Tuition_fees_up_to_date','Gender','Scholarship_holder','International']\n",
    "categorical_features = ['Mothers_occupation','Fathers_occupation']\n",
    "continous_features = df.columns.difference(bool_features + categorical_features + ['Target'])\n",
    "\n",
    "for column in bool_features:\n",
    "    df[column] = df[column].replace({1 : True, 0 : False})\n",
    "df = booleanize_categorical_attributes(df, categorical_features)\n",
    "df['target'] = df['Target'].replace({'Dropout' : 1, 'Graduate' : 0, 'Enrolled': 0})\n",
    "df.drop('Target', axis = 1, inplace = True)\n",
    "\n",
    "save_cv_10_splits(df, 'student_dropout', None, continous_features, None)"
   ]
  },
  {
   "cell_type": "code",
   "execution_count": 10,
   "metadata": {},
   "outputs": [],
   "source": [
    "df = pd.read_csv('compas/clf_cat_compas-two-years.csv')\n",
    "continous_features = ['age','juv_misd_count','priors_count']\n",
    "boolean_features = df.columns.difference(continous_features + ['twoyearrecid'])\n",
    "df['target'] = df['twoyearrecid']\n",
    "df.drop('twoyearrecid', axis = 1, inplace = True)\n",
    "\n",
    "save_cv_10_splits(df, 'compas', None, continous_features, boolean_features)"
   ]
  },
  {
   "cell_type": "code",
   "execution_count": 5,
   "metadata": {},
   "outputs": [],
   "source": [
    "df = pd.read_csv('electricity/clf_cat_electricity.csv')\n",
    "df['target'] = df['class'].replace({'UP' : 1, 'DOWN' : 0})\n",
    "df.drop('class', axis = 1, inplace = True)\n",
    "categorical_features = ['day']\n",
    "continous_features = df.columns.difference(categorical_features + ['target'])\n",
    "\n",
    "df = booleanize_categorical_attributes(df, categorical_features)\n",
    "\n",
    "save_cv_10_splits(df, 'electricity', None, continous_features, None)"
   ]
  },
  {
   "cell_type": "code",
   "execution_count": 4,
   "metadata": {},
   "outputs": [],
   "source": [
    "df = pd.read_csv('eye_movement/clf_cat_eye_movements.csv')\n",
    "categorical_features = ['P1stFixation','P2stFixation','nextWordRegress']\n",
    "continous_features = df.columns.difference(categorical_features + ['label'])\n",
    "df['target'] = df['label']\n",
    "df.drop('label', axis = 1, inplace = True)\n",
    "\n",
    "df = booleanize_categorical_attributes(df, categorical_features)\n",
    "\n",
    "save_cv_10_splits(df, 'eye_movement', None, continous_features, None)"
   ]
  },
  {
   "cell_type": "code",
   "execution_count": 13,
   "metadata": {},
   "outputs": [],
   "source": [
    "df = pd.read_csv('covertype/covertype.csv')\n",
    "continous_features = ['Elevation','Aspect','Slope','Horizontal_Distance_To_Hydrology','Vertical_Distance_To_Hydrology','Horizontal_Distance_To_Roadways','Hillshade_9am','Hillshade_Noon','Hillshade_3pm','Horizontal_Distance_To_Fire_Points']\n",
    "boolean_features = df.columns.difference(continous_features + ['class'])\n",
    "df['target'] = df['class'].replace({2 : 1, 1 : 0})\n",
    "df.drop('class', axis = 1, inplace = True)\n",
    "\n",
    "save_cv_10_splits(df, 'covertype', None, continous_features, boolean_features)"
   ]
  },
  {
   "cell_type": "code",
   "execution_count": 3,
   "metadata": {},
   "outputs": [],
   "source": [
    "df = pd.read_csv('road_safety/road-safety.csv')\n",
    "continous_features = ['Age_of_Driver','Age_Band_of_Driver','Engine_Capacity_CC','Location_Easting_OSGR','Location_Northing_OSGR','Longitude','Latitude','Police_Force','Local_Authority_District','1st_Road_Number','2nd_Road_Number','Age_of_Casualty','Age_Band_of_Casualty']\n",
    "categorical_features = df.columns.difference(continous_features + ['SexofDriver'])\n",
    "df['target'] = df['SexofDriver']\n",
    "df.drop('SexofDriver', axis = 1, inplace = True)\n",
    "\n",
    "df = booleanize_categorical_attributes(df, categorical_features)\n",
    "\n",
    "save_cv_10_splits(df, 'road_safety', None, continous_features, None)"
   ]
  },
  {
   "cell_type": "code",
   "execution_count": 9,
   "metadata": {},
   "outputs": [],
   "source": [
    "df = pd.read_csv('diabetes/diabetes.csv')\n",
    "for column in ['Glucose','BloodPressure','SkinThickness','Insulin','BMI']:\n",
    "    df = df[df[column] != 0]\n",
    "df.to_csv('diabetes/diabetes_no_inconsistencies.csv', index = False)\n",
    "\n",
    "continous_features = df.columns.difference(['Outcome'])\n",
    "\n",
    "df['target'] = df['Outcome']\n",
    "df.drop('Outcome', axis = 1, inplace = True)\n",
    "\n",
    "save_cv_10_splits(df, 'diabetes', None, continous_features)"
   ]
  },
  {
   "cell_type": "code",
   "execution_count": 3,
   "metadata": {},
   "outputs": [],
   "source": [
    "df = pd.read_csv('ionosphere/ionosphere.csv')\n",
    "for column in ['A1','A2']:\n",
    "    df[column] = df[column].replace({True : 1, False : 0})\n",
    "continous_features = df.columns.difference(['target','A1','A2'])\n",
    "save_cv_10_splits(df, 'ionosphere', None, continous_features)"
   ]
  }
 ],
 "metadata": {
  "kernelspec": {
   "display_name": "Python 3",
   "language": "python",
   "name": "python3"
  },
  "language_info": {
   "codemirror_mode": {
    "name": "ipython",
    "version": 3
   },
   "file_extension": ".py",
   "mimetype": "text/x-python",
   "name": "python",
   "nbconvert_exporter": "python",
   "pygments_lexer": "ipython3",
   "version": "3.11.9"
  }
 },
 "nbformat": 4,
 "nbformat_minor": 2
}
